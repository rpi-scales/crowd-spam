{
 "cells": [
  {
   "cell_type": "code",
   "execution_count": 2,
   "metadata": {},
   "outputs": [],
   "source": [
    "import pandas as pd\n",
    "import seaborn as sns\n",
    "from sklearn.model_selection import train_test_split\n",
    "from sklearn import preprocessing\n",
    "from sklearn.linear_model import LogisticRegression\n",
    "from sklearn import metrics\n",
    "import numpy as np\n",
    "from sklearn.metrics import accuracy_score\n",
    "import matplotlib.pyplot as plt\n",
    "from matplotlib.pyplot import figure\n",
    "import warnings\n",
    "warnings.filterwarnings('ignore')\n",
    "import matplotlib.pyplot as plt\n",
    "from matplotlib.pyplot import figure\n",
    "\n",
    "df= pd.read_csv(\"combined_dataset.csv\")\n",
    "df.drop(columns=['ranking','isIp','valid'])\n",
    "df1 = pd.read_csv(\"All.csv\")\n",
    "labels = ['benign', 'spam']\n",
    "ndf1 = df1.loc[df1['URL_Type_obf_Type'].isin(labels)]\n",
    "ndf1['URL_Type_obf_Type'] = ndf1['URL_Type_obf_Type'].map({'benign':1,'spam':2})\n",
    "ndf1.dropna(inplace=True)"
   ]
  },
  {
   "cell_type": "code",
   "execution_count": 2,
   "metadata": {},
   "outputs": [],
   "source": [
    "kaggle_df = df\n",
    "url2016_df= df1\n",
    "kaggle_df = kaggle_df.sample(frac = 1)"
   ]
  },
  {
   "cell_type": "code",
   "execution_count": 27,
   "metadata": {},
   "outputs": [
    {
     "data": {
      "text/html": [
       "<div>\n",
       "<style scoped>\n",
       "    .dataframe tbody tr th:only-of-type {\n",
       "        vertical-align: middle;\n",
       "    }\n",
       "\n",
       "    .dataframe tbody tr th {\n",
       "        vertical-align: top;\n",
       "    }\n",
       "\n",
       "    .dataframe thead th {\n",
       "        text-align: right;\n",
       "    }\n",
       "</style>\n",
       "<table border=\"1\" class=\"dataframe\">\n",
       "  <thead>\n",
       "    <tr style=\"text-align: right;\">\n",
       "      <th></th>\n",
       "      <th>domain</th>\n",
       "      <th>ranking</th>\n",
       "      <th>isIp</th>\n",
       "      <th>valid</th>\n",
       "      <th>activeDuration</th>\n",
       "      <th>urlLen</th>\n",
       "      <th>is@</th>\n",
       "      <th>isredirect</th>\n",
       "      <th>haveDash</th>\n",
       "      <th>domainLen</th>\n",
       "      <th>nosOfSubdomain</th>\n",
       "      <th>label</th>\n",
       "    </tr>\n",
       "  </thead>\n",
       "  <tbody>\n",
       "    <tr>\n",
       "      <th>0</th>\n",
       "      <td>www.voting-yahoo.com</td>\n",
       "      <td>10000000</td>\n",
       "      <td>0</td>\n",
       "      <td>0</td>\n",
       "      <td>0</td>\n",
       "      <td>20</td>\n",
       "      <td>0</td>\n",
       "      <td>0</td>\n",
       "      <td>1</td>\n",
       "      <td>20</td>\n",
       "      <td>2</td>\n",
       "      <td>1</td>\n",
       "    </tr>\n",
       "    <tr>\n",
       "      <th>1</th>\n",
       "      <td>www.zvon.org/xxl/WSDL1.1/Output/index.html</td>\n",
       "      <td>194914</td>\n",
       "      <td>0</td>\n",
       "      <td>1</td>\n",
       "      <td>7305</td>\n",
       "      <td>42</td>\n",
       "      <td>0</td>\n",
       "      <td>0</td>\n",
       "      <td>0</td>\n",
       "      <td>12</td>\n",
       "      <td>2</td>\n",
       "      <td>0</td>\n",
       "    </tr>\n",
       "    <tr>\n",
       "      <th>2</th>\n",
       "      <td>tecportais.com/file-security-update-infonfmati...</td>\n",
       "      <td>10000000</td>\n",
       "      <td>0</td>\n",
       "      <td>0</td>\n",
       "      <td>0</td>\n",
       "      <td>155</td>\n",
       "      <td>0</td>\n",
       "      <td>0</td>\n",
       "      <td>0</td>\n",
       "      <td>14</td>\n",
       "      <td>1</td>\n",
       "      <td>1</td>\n",
       "    </tr>\n",
       "    <tr>\n",
       "      <th>3</th>\n",
       "      <td>bima.astro.umd.edu/nemo/linuxastro/</td>\n",
       "      <td>7001</td>\n",
       "      <td>0</td>\n",
       "      <td>0</td>\n",
       "      <td>0</td>\n",
       "      <td>35</td>\n",
       "      <td>0</td>\n",
       "      <td>0</td>\n",
       "      <td>0</td>\n",
       "      <td>18</td>\n",
       "      <td>3</td>\n",
       "      <td>0</td>\n",
       "    </tr>\n",
       "    <tr>\n",
       "      <th>4</th>\n",
       "      <td>huarui-tec.com/js/?us.battle.net/login/en/?ref...</td>\n",
       "      <td>10000000</td>\n",
       "      <td>0</td>\n",
       "      <td>1</td>\n",
       "      <td>730</td>\n",
       "      <td>79</td>\n",
       "      <td>0</td>\n",
       "      <td>0</td>\n",
       "      <td>1</td>\n",
       "      <td>14</td>\n",
       "      <td>1</td>\n",
       "      <td>1</td>\n",
       "    </tr>\n",
       "  </tbody>\n",
       "</table>\n",
       "</div>"
      ],
      "text/plain": [
       "                                              domain   ranking  isIp  valid  \\\n",
       "0                               www.voting-yahoo.com  10000000     0      0   \n",
       "1         www.zvon.org/xxl/WSDL1.1/Output/index.html    194914     0      1   \n",
       "2  tecportais.com/file-security-update-infonfmati...  10000000     0      0   \n",
       "3                bima.astro.umd.edu/nemo/linuxastro/      7001     0      0   \n",
       "4  huarui-tec.com/js/?us.battle.net/login/en/?ref...  10000000     0      1   \n",
       "\n",
       "   activeDuration  urlLen  is@  isredirect  haveDash  domainLen  \\\n",
       "0               0      20    0           0         1         20   \n",
       "1            7305      42    0           0         0         12   \n",
       "2               0     155    0           0         0         14   \n",
       "3               0      35    0           0         0         18   \n",
       "4             730      79    0           0         1         14   \n",
       "\n",
       "   nosOfSubdomain  label  \n",
       "0               2      1  \n",
       "1               2      0  \n",
       "2               1      1  \n",
       "3               3      0  \n",
       "4               1      1  "
      ]
     },
     "execution_count": 27,
     "metadata": {},
     "output_type": "execute_result"
    }
   ],
   "source": [
    "kaggle_df.head()"
   ]
  },
  {
   "cell_type": "code",
   "execution_count": 3,
   "metadata": {},
   "outputs": [],
   "source": [
    "\n",
    "url2016_df= df1\n",
    "labels = ['benign', 'spam']\n",
    "url2016_df = url2016_df.loc[url2016_df['URL_Type_obf_Type'].isin(labels)]\n",
    "url2016_df['URL_Type_obf_Type'] = url2016_df['URL_Type_obf_Type'].map({'benign':1,'spam':2})\n",
    "url2016_df.dropna(inplace=True)"
   ]
  },
  {
   "cell_type": "code",
   "execution_count": 4,
   "metadata": {},
   "outputs": [],
   "source": [
    "base_set_data = kaggle_df[0:len(kaggle_df)//3]\n",
    "good_update_set = kaggle_df[len(kaggle_df)//3:len(kaggle_df)//3+11323]\n",
    "bad_update_set = kaggle_df[len(kaggle_df)//3+11323:len(kaggle_df)]\n"
   ]
  },
  {
   "cell_type": "code",
   "execution_count": 5,
   "metadata": {},
   "outputs": [],
   "source": [
    "bad_update_set['label']=bad_update_set['label'].map({0:1,1:0})"
   ]
  },
  {
   "cell_type": "code",
   "execution_count": 6,
   "metadata": {},
   "outputs": [],
   "source": [
    "def model(ndf):\n",
    "    y= ndf['label']\n",
    "    x=ndf.drop(columns=['domain','label','ranking','isIp','valid'])\n",
    "    X_train, X_test, y_train, y_test = train_test_split(x,y,test_size= 0.2,random_state=42)\n",
    "    classifier = LogisticRegression(random_state=0)\n",
    "    classifier.fit(X_train, y_train)\n",
    "    predictions = classifier.predict(X_test)\n",
    "    return accuracy_score(y_test, predictions)\n",
    "\n",
    "def update_model(base, new_data):\n",
    "    ndf = pd.concat([base,new_data])\n",
    "    y= ndf['label']\n",
    "    x=ndf.drop(columns=['domain','label','ranking','isIp','valid'])\n",
    "    X_train, X_test, y_train, y_test = train_test_split(x,y,test_size= 0.2,random_state=42)\n",
    "    classifier = LogisticRegression(random_state=0)\n",
    "    classifier.fit(X_train, y_train)\n",
    "    predictions = classifier.predict(X_test)\n",
    "    return accuracy_score(y_test, predictions)"
   ]
  },
  {
   "cell_type": "code",
   "execution_count": 7,
   "metadata": {},
   "outputs": [
    {
     "name": "stdout",
     "output_type": "stream",
     "text": [
      "Base Model Acc: 0.8332812011260556\n",
      "Good Data1 Model Acc: 0.8364707241020903\n",
      "Adding good1 data to base data then test on good2 data: Model Acc: 0.823141706334676\n",
      "Bad_Data Model Acc: 0.5644875280766048\n"
     ]
    }
   ],
   "source": [
    "base= model(base_set_data)\n",
    "good_data= update_model(base_set_data,good_update_set)\n",
    "\n",
    "df= pd.concat([base_set_data,good_update_set])\n",
    "model_with_agg= update_model(good_update_set,df)\n",
    "bad_data= update_model(bad_update_set,base_set_data)\n",
    "\n",
    "print('Base Model Acc:',base)\n",
    "print('Good Data1 Model Acc:',good_data)\n",
    "print('Adding good1 data to base data then test on good2 data: Model Acc:',model_with_agg)\n",
    "print('Bad_Data Model Acc:',bad_data)"
   ]
  },
  {
   "cell_type": "code",
   "execution_count": 21,
   "metadata": {},
   "outputs": [],
   "source": [
    "class Actors:\n",
    " \n",
    " \n",
    "    def __init__(self,balance):\n",
    "        self.weight = 0 #init weights are set to 0\n",
    "        self.balance = balance #This is the actors init balance\n",
    "    def show_weight(self):\n",
    "        print(self.weight)\n",
    "    def show_balance(self):\n",
    "        print(self.balance)\n",
    "    def get_weight(self):\n",
    "        return(self.weight)\n",
    "    def get_balance(self):\n",
    "        return(self.balance)\n",
    "    def update_weight(self,val):\n",
    "        self.weight += val\n",
    "    def update_balance(self,val):\n",
    "        self.balance += val\n",
    "    def stake(self,amount):\n",
    "        self.balance -= amount\n",
    "\n",
    "    def simulate(self,base_set,update_set,tag=0):\n",
    "        balance_list=[]\n",
    "        for i in range(0,100):\n",
    "            base = model(base_set)\n",
    "            if tag ==1:\n",
    "                update = update_set\n",
    "            else:\n",
    "                update = update_set.sample(3000,replace=True)\n",
    "\n",
    "            new = update_model(base_set,update)\n",
    "\n",
    "            weight = new - base\n",
    "            self.update_weight(weight)\n",
    "            #good.show_weight()\n",
    "            \n",
    "            stake = 1\n",
    "            self.stake(stake)\n",
    "            #good.show_balance()\n",
    "            reward = stake + (stake*weight) \n",
    "            \n",
    "            if weight < 0:\n",
    "\n",
    "                self.update_balance(-stake)\n",
    "        \n",
    "\n",
    "            else:\n",
    "                self.update_balance(reward)\n",
    "            \n",
    "            \n",
    "            if self.get_balance() < 0:\n",
    "                balance_list.append(0)\n",
    "                continue\n",
    "\n",
    "            self.update_balance(reward)\n",
    "            #good.show_balance()\n",
    "            balance = self.get_balance()\n",
    "            balance_list.append(balance)\n",
    "        return balance_list\n",
    "\n"
   ]
  },
  {
   "attachments": {},
   "cell_type": "markdown",
   "metadata": {},
   "source": [
    "Types of bad actors\n",
    "\n",
    "1. Giving wrong data on purpose (flip labels) - will always decrease accuracy and they lose stake \n",
    "\n",
    "2. Repeat giving the same data point (that you know increases accuracy) - need some way to check for same data from same user\n",
    "3. Collborating by giving the same data point (that you know increases accuracy) as someone else - ???\n",
    "\n",
    "4. Giving hardcoded data based on other data that increase acc"
   ]
  },
  {
   "cell_type": "code",
   "execution_count": 9,
   "metadata": {},
   "outputs": [],
   "source": [
    "good = Actors(10)\n",
    "bad_flipped= Actors(10)\n",
    "bad_same_data= Actors(10)\n",
    "\n",
    "good_balance = good.simulate(base_set_data,good_update_set)\n",
    "bad_balance = bad_flipped.simulate(base_set_data,bad_update_set)"
   ]
  },
  {
   "cell_type": "code",
   "execution_count": 24,
   "metadata": {},
   "outputs": [
    {
     "name": "stdout",
     "output_type": "stream",
     "text": [
      "<__main__.Actors object at 0x7fc2c4da01f0>\n"
     ]
    }
   ],
   "source": [
    "bad_same_data= Actors(10)\n",
    "bad_balance_same= bad_same_data.simulate(base_set_data,good_update_set,1)"
   ]
  },
  {
   "cell_type": "code",
   "execution_count": 26,
   "metadata": {},
   "outputs": [
    {
     "data": {
      "text/plain": [
       "<matplotlib.legend.Legend at 0x7fc2c60523d0>"
      ]
     },
     "execution_count": 26,
     "metadata": {},
     "output_type": "execute_result"
    },
    {
     "data": {
      "image/png": "[encoded data removed]",
      "text/plain": [
       "<Figure size 432x288 with 1 Axes>"
      ]
     },
     "metadata": {
      "needs_background": "light"
     },
     "output_type": "display_data"
    }
   ],
   "source": [
    "import matplotlib.pyplot as plt\n",
    "x= [i for i in range(0,100)]\n",
    "plt.plot(x,good_balance,label='Good Actor')\n",
    "plt.plot(x,bad_balance, label='Bad Actor')\n",
    "plt.xlabel('Iterations')\n",
    "plt.ylabel('User Balance')\n",
    "plt.legend()"
   ]
  }
 ],
 "metadata": {
  "kernelspec": {
   "display_name": "keras_env",
   "language": "python",
   "name": "python3"
  },
  "language_info": {
   "codemirror_mode": {
    "name": "ipython",
    "version": 3
   },
   "file_extension": ".py",
   "mimetype": "text/x-python",
   "name": "python",
   "nbconvert_exporter": "python",
   "pygments_lexer": "ipython3",
   "version": "3.8.5"
  },
  "orig_nbformat": 4
 },
 "nbformat": 4,
 "nbformat_minor": 2
}
